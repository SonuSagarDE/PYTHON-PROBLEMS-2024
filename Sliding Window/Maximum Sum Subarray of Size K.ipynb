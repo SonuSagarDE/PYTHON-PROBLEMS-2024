{
 "cells": [
  {
   "cell_type": "markdown",
   "id": "16799ed7",
   "metadata": {},
   "source": [
    "Given an array of integers Arr of size N and a number K. Return the maximum sum of a subarray of size K.\n",
    "\n",
    "Example:\n",
    "    Input:\n",
    "N = 4, K = 2\n",
    "Arr = [100, 200, 300, 400]\n",
    "Output:\n",
    "700\n",
    "Explanation:\n",
    "Arr3  + Arr4 =700,\n",
    "which is maximum. . "
   ]
  },
  {
   "cell_type": "code",
   "execution_count": 25,
   "id": "46ae1f05",
   "metadata": {},
   "outputs": [],
   "source": [
    "def max_sum_subarray(arr,N,K):\n",
    "    if N<K or K<=0:\n",
    "        return None\n",
    "    i=0\n",
    "    window_sum=0\n",
    "    max_sum = float('-inf') # max_sum is initialized to negative infinity to handle cases where all values are negative,\n",
    "    for j in range(N):\n",
    "        window_sum+=arr[j]\n",
    "        if j-i+1>K:\n",
    "            window_sum-=arr[i]\n",
    "            i+=1\n",
    "        if j-i+1==K:\n",
    "            max_sum=max(window_sum,max_sum)\n",
    "    return max_sum"
   ]
  },
  {
   "cell_type": "code",
   "execution_count": null,
   "id": "c78819db",
   "metadata": {},
   "outputs": [],
   "source": []
  },
  {
   "cell_type": "code",
   "execution_count": 9,
   "id": "22f0531e",
   "metadata": {},
   "outputs": [],
   "source": [
    "## Brute Force Approach\n",
    "def max_sum_subarray_BF(arr,K,N):\n",
    "    max_sum=float('-inf')\n",
    "    i=0\n",
    "    for i in range(i,N-K+1):\n",
    "        cal_sum=0\n",
    "        for j in range(i,i+K):\n",
    "            cal_sum=cal_sum+arr[j]\n",
    "        max_sum=max(max_sum,cal_sum)\n",
    "        \n",
    "    return max_sum   \n",
    "            \n",
    "    \n",
    "    \n",
    "    "
   ]
  },
  {
   "cell_type": "code",
   "execution_count": 20,
   "id": "90f408a9",
   "metadata": {},
   "outputs": [
    {
     "name": "stdout",
     "output_type": "stream",
     "text": [
      "700\n"
     ]
    }
   ],
   "source": [
    "N = 4\n",
    "K = 2\n",
    "arr = [100, 200, 300, 400]\n",
    "result = max_sum_subarray(arr, N, K)\n",
    "print(result)"
   ]
  },
  {
   "cell_type": "code",
   "execution_count": 26,
   "id": "4463afab",
   "metadata": {},
   "outputs": [
    {
     "name": "stdout",
     "output_type": "stream",
     "text": [
      "-300\n"
     ]
    }
   ],
   "source": [
    "N = 4\n",
    "K = 2\n",
    "arr = [-100, -200, -300, -400]\n",
    "result = max_sum_subarray(arr, N, K)\n",
    "print(result)"
   ]
  },
  {
   "cell_type": "code",
   "execution_count": 11,
   "id": "f5773ebb",
   "metadata": {},
   "outputs": [
    {
     "name": "stdout",
     "output_type": "stream",
     "text": [
      "-300\n"
     ]
    }
   ],
   "source": [
    "N = 4\n",
    "K = 2\n",
    "arr = [-100, -200, -300, -400]\n",
    "result = max_sum_subarray_BF(arr,K,N)\n",
    "print(result)"
   ]
  },
  {
   "cell_type": "code",
   "execution_count": null,
   "id": "00e15026",
   "metadata": {},
   "outputs": [],
   "source": []
  },
  {
   "cell_type": "code",
   "execution_count": 1,
   "id": "a2ec4cd3",
   "metadata": {},
   "outputs": [],
   "source": [
    "def max_sum_subarray1(arr,N,K):\n",
    "    max_sum=0\n",
    "    current_sum=0\n",
    "    i=0\n",
    "    j=0\n",
    "    while(j<N):\n",
    "        current_sum=current_sum+arr[j]\n",
    "        if(j-i+1<K):\n",
    "            j+=1\n",
    "        elif(j-i+1==K):\n",
    "            max_sum=max(max_sum,current_sum)\n",
    "            current_sum=current_sum-arr[i]\n",
    "            i+=1\n",
    "            j+=1\n",
    "            \n",
    "    return max_sum     \n",
    "            "
   ]
  },
  {
   "cell_type": "code",
   "execution_count": 2,
   "id": "2ec282d7",
   "metadata": {},
   "outputs": [
    {
     "name": "stdout",
     "output_type": "stream",
     "text": [
      "700\n"
     ]
    }
   ],
   "source": []
  },
  {
   "cell_type": "code",
   "execution_count": null,
   "id": "ccd3b2cb",
   "metadata": {},
   "outputs": [],
   "source": []
  }
 ],
 "metadata": {
  "kernelspec": {
   "display_name": "Python 3 (ipykernel)",
   "language": "python",
   "name": "python3"
  },
  "language_info": {
   "codemirror_mode": {
    "name": "ipython",
    "version": 3
   },
   "file_extension": ".py",
   "mimetype": "text/x-python",
   "name": "python",
   "nbconvert_exporter": "python",
   "pygments_lexer": "ipython3",
   "version": "3.9.12"
  }
 },
 "nbformat": 4,
 "nbformat_minor": 5
}
