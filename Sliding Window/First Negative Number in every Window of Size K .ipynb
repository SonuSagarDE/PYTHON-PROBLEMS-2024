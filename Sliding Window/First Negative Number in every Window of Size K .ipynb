{
 "cells": [
  {
   "cell_type": "code",
   "execution_count": null,
   "id": "4f3e7a00",
   "metadata": {},
   "outputs": [],
   "source": [
    "Input:12 -1 -7 8 -15 30 16 28\n",
    "N=8\n",
    "K=3\n",
    "Output: [-1, -1, -7, -15, -15, 0]  "
   ]
  },
  {
   "cell_type": "code",
   "execution_count": 7,
   "id": "11c1d945",
   "metadata": {},
   "outputs": [],
   "source": [
    "# Brute Force Approach\n",
    "\n",
    "def First_Negative_Number_BF(arr,N,K):\n",
    "    final_result=[]\n",
    "    for i in range(N-K+1):\n",
    "        first_negative=0\n",
    "        for j in range(i,i+K):\n",
    "            if arr[j]<0:\n",
    "                first_negative=arr[j]\n",
    "                break\n",
    "                \n",
    "        final_result.append(first_negative)\n",
    "    return final_result  \n",
    "        \n",
    "        \n"
   ]
  },
  {
   "cell_type": "code",
   "execution_count": 8,
   "id": "6e5b4b9a",
   "metadata": {},
   "outputs": [
    {
     "name": "stdout",
     "output_type": "stream",
     "text": [
      "[-8, 0, -6, -6]\n"
     ]
    }
   ],
   "source": [
    "arr = [-8, 2, 3, -6, 10]\n",
    "N = len(arr)\n",
    "K = 2\n",
    "print(First_Negative_Number_BF(arr, N, K)) "
   ]
  },
  {
   "cell_type": "code",
   "execution_count": 19,
   "id": "e8d0ab36",
   "metadata": {},
   "outputs": [],
   "source": [
    "# Sliding Window Approach\n",
    "\n",
    "def First_Negative_Number(arr,N,k):\n",
    "    i=0\n",
    "    j=0\n",
    "    temp=[]\n",
    "    final_result=[]\n",
    "    while(j<N):\n",
    "        if arr[j]<0:\n",
    "            temp.append(arr[j])\n",
    "        if(j-i+1<k):\n",
    "            j+=1\n",
    "        elif (j-i+1==k):\n",
    "            if len(temp)==0:\n",
    "                final_result.append(0)\n",
    "            else:\n",
    "                final_result.append(temp[0])\n",
    "                if arr[i]<0:\n",
    "                    temp.pop(0)\n",
    "            i+=1\n",
    "            j+=1\n",
    "    return final_result\n",
    "                \n",
    "            \n",
    "               "
   ]
  },
  {
   "cell_type": "code",
   "execution_count": 10,
   "id": "41845b8b",
   "metadata": {},
   "outputs": [
    {
     "name": "stdout",
     "output_type": "stream",
     "text": [
      "[-8, 0, -6, -6]\n"
     ]
    }
   ],
   "source": [
    "arr = [-8, 2, 3, -6, 10]\n",
    "N = len(arr)\n",
    "k = 2\n",
    "print(First_Negative_Number_BF(arr, N, k)) "
   ]
  },
  {
   "cell_type": "code",
   "execution_count": 21,
   "id": "d7c5f043",
   "metadata": {},
   "outputs": [
    {
     "name": "stdout",
     "output_type": "stream",
     "text": [
      "[-1, -1, -7, -15, -15, 0]\n"
     ]
    }
   ],
   "source": [
    "arr = [12, -1, -7, 8, -15, 30, 16, 28]\n",
    "N=8\n",
    "k=3\n",
    "print(First_Negative_Number(arr,N,k))"
   ]
  },
  {
   "cell_type": "code",
   "execution_count": null,
   "id": "532acca2",
   "metadata": {},
   "outputs": [],
   "source": []
  }
 ],
 "metadata": {
  "kernelspec": {
   "display_name": "Python 3 (ipykernel)",
   "language": "python",
   "name": "python3"
  },
  "language_info": {
   "codemirror_mode": {
    "name": "ipython",
    "version": 3
   },
   "file_extension": ".py",
   "mimetype": "text/x-python",
   "name": "python",
   "nbconvert_exporter": "python",
   "pygments_lexer": "ipython3",
   "version": "3.9.12"
  }
 },
 "nbformat": 4,
 "nbformat_minor": 5
}
