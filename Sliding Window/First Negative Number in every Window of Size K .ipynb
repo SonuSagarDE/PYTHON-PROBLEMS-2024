{
 "cells": [
  {
   "cell_type": "code",
   "execution_count": null,
   "id": "4f3e7a00",
   "metadata": {},
   "outputs": [],
   "source": [
    "Input:12 -1 -7 8 -15 30 16 28\n",
    "N=8\n",
    "K=3\n",
    "Output:   "
   ]
  },
  {
   "cell_type": "code",
   "execution_count": 7,
   "id": "11c1d945",
   "metadata": {},
   "outputs": [],
   "source": [
    "# Brute Force Approach\n",
    "\n",
    "def First_Negative_Number_BF(arr,N,K):\n",
    "    final_result=[]\n",
    "    for i in range(N-K+1):\n",
    "        first_negative=0\n",
    "        for j in range(i,i+K):\n",
    "            if arr[j]<0:\n",
    "                first_negative=arr[j]\n",
    "                break\n",
    "                \n",
    "        final_result.append(first_negative)\n",
    "    return final_result  \n",
    "        \n",
    "        \n"
   ]
  },
  {
   "cell_type": "code",
   "execution_count": 8,
   "id": "9f2a97d3",
   "metadata": {},
   "outputs": [
    {
     "name": "stdout",
     "output_type": "stream",
     "text": [
      "[-8, 0, -6, -6]\n"
     ]
    }
   ],
   "source": [
    "arr = [-8, 2, 3, -6, 10]\n",
    "N = len(arr)\n",
    "K = 2\n",
    "print(First_Negative_Number_BF(arr, N, K)) "
   ]
  },
  {
   "cell_type": "code",
   "execution_count": null,
   "id": "fbc9acb3",
   "metadata": {},
   "outputs": [],
   "source": [
    "# Sliding Window Approach\n",
    "\n",
    "def First_Negative_Number(arr,N,K):\n",
    "    "
   ]
  }
 ],
 "metadata": {
  "kernelspec": {
   "display_name": "Python 3 (ipykernel)",
   "language": "python",
   "name": "python3"
  },
  "language_info": {
   "codemirror_mode": {
    "name": "ipython",
    "version": 3
   },
   "file_extension": ".py",
   "mimetype": "text/x-python",
   "name": "python",
   "nbconvert_exporter": "python",
   "pygments_lexer": "ipython3",
   "version": "3.9.12"
  }
 },
 "nbformat": 4,
 "nbformat_minor": 5
}
